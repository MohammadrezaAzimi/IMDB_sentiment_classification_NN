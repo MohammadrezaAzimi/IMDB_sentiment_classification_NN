{
 "cells": [
  {
   "cell_type": "code",
   "execution_count": 1,
   "metadata": {},
   "outputs": [
    {
     "name": "stderr",
     "output_type": "stream",
     "text": [
      "Using TensorFlow backend.\n"
     ]
    }
   ],
   "source": [
    "# Loading the IMDB dataset and only keeping the top 10000 most frequently occurring words \n",
    "from keras.datasets import imdb\n",
    "(train_data, train_labels), (test_data, test_labels) = imdb.load_data(\n",
    "    num_words=10000)"
   ]
  },
  {
   "cell_type": "code",
   "execution_count": 2,
   "metadata": {},
   "outputs": [],
   "source": [
    "# dictionary mapping words to an integer index\n",
    "word_index = imdb.get_word_index() \n",
    "# mapping integer indices to words \n",
    "reverse_word_index = dict([(value, key) for (key, value) in word_index.items()]) \n",
    "# Decoding the review by noting that the indices are offset by 3 because 0, 1, and 2 are reserved indices for “padding,” “start of sequence,” and “unknown.”\n",
    "decoded_review = ' '.join([reverse_word_index.get(i - 3, '?') for i in train_data[0]])"
   ]
  },
  {
   "cell_type": "code",
   "execution_count": 3,
   "metadata": {},
   "outputs": [],
   "source": [
    "import numpy as np"
   ]
  },
  {
   "cell_type": "code",
   "execution_count": 4,
   "metadata": {},
   "outputs": [],
   "source": [
    "# Encoding the integer sequences into a binary matrix\n",
    "def vectorize_sequences(sequences, dimension=10000):\n",
    "    results = np.zeros((len(sequences), dimension))\n",
    "    for i, sequence in enumerate(sequences):\n",
    "          results[i, sequence] = 1.\n",
    "    return results"
   ]
  },
  {
   "cell_type": "code",
   "execution_count": 5,
   "metadata": {},
   "outputs": [],
   "source": [
    "x_train = vectorize_sequences(train_data)\n",
    "x_test = vectorize_sequences(test_data)"
   ]
  },
  {
   "cell_type": "code",
   "execution_count": 6,
   "metadata": {},
   "outputs": [],
   "source": [
    "# Vectorizing the labels\n",
    "y_train = np.asarray(train_labels).astype('float32')\n",
    "y_test = np.asarray(test_labels).astype('float32')"
   ]
  },
  {
   "cell_type": "code",
   "execution_count": 7,
   "metadata": {},
   "outputs": [],
   "source": [
    "# Defining the model as two fully connected layers and a final output layer with sigmoid activation \n",
    "from keras import models\n",
    "from keras import layers\n",
    "model = models.Sequential()\n",
    "model.add(layers.Dense(16, activation='relu', input_shape=(10000,)))\n",
    "model.add(layers.Dense(16, activation='relu'))\n",
    "model.add(layers.Dense(1, activation='sigmoid'))"
   ]
  },
  {
   "cell_type": "code",
   "execution_count": 8,
   "metadata": {},
   "outputs": [],
   "source": [
    "# Compiling the model \n",
    "from keras import optimizers\n",
    "model.compile(optimizer=optimizers.RMSprop(lr=0.001),loss='binary_crossentropy', metrics=['accuracy'])"
   ]
  },
  {
   "cell_type": "code",
   "execution_count": 9,
   "metadata": {},
   "outputs": [],
   "source": [
    "# Compiling the model \n",
    "from keras import losses\n",
    "from keras import metrics\n",
    "model.compile(optimizer=optimizers.RMSprop(lr=0.001),loss=losses.binary_crossentropy,metrics=[metrics.binary_accuracy])"
   ]
  },
  {
   "cell_type": "code",
   "execution_count": 10,
   "metadata": {},
   "outputs": [],
   "source": [
    "# Separating the training and hold-out data points and labels  \n",
    "x_val = x_train[:10000]\n",
    "partial_x_train = x_train[10000:]\n",
    "y_val = y_train[:10000]\n",
    "partial_y_train = y_train[10000:]"
   ]
  },
  {
   "cell_type": "code",
   "execution_count": 11,
   "metadata": {},
   "outputs": [],
   "source": [
    "model.compile(optimizer='rmsprop',loss='binary_crossentropy',metrics=['acc'])"
   ]
  },
  {
   "cell_type": "code",
   "execution_count": 12,
   "metadata": {},
   "outputs": [
    {
     "name": "stdout",
     "output_type": "stream",
     "text": [
      "Train on 15000 samples, validate on 10000 samples\n",
      "Epoch 1/20\n",
      "15000/15000 [==============================] - 4s 275us/step - loss: 0.5096 - acc: 0.7777 - val_loss: 0.3990 - val_acc: 0.8474\n",
      "Epoch 2/20\n",
      "15000/15000 [==============================] - 2s 153us/step - loss: 0.3034 - acc: 0.9006 - val_loss: 0.3117 - val_acc: 0.8834\n",
      "Epoch 3/20\n",
      "15000/15000 [==============================] - 2s 144us/step - loss: 0.2199 - acc: 0.9279 - val_loss: 0.2915 - val_acc: 0.8842\n",
      "Epoch 4/20\n",
      "15000/15000 [==============================] - 2s 146us/step - loss: 0.1719 - acc: 0.9461 - val_loss: 0.2771 - val_acc: 0.8881\n",
      "Epoch 5/20\n",
      "15000/15000 [==============================] - 2s 151us/step - loss: 0.1390 - acc: 0.9560 - val_loss: 0.2829 - val_acc: 0.8870\n",
      "Epoch 6/20\n",
      "15000/15000 [==============================] - 2s 152us/step - loss: 0.1126 - acc: 0.9665 - val_loss: 0.2999 - val_acc: 0.8855\n",
      "Epoch 7/20\n",
      "15000/15000 [==============================] - 2s 146us/step - loss: 0.0972 - acc: 0.9694 - val_loss: 0.3396 - val_acc: 0.8762\n",
      "Epoch 8/20\n",
      "15000/15000 [==============================] - 2s 147us/step - loss: 0.0781 - acc: 0.9775 - val_loss: 0.3344 - val_acc: 0.8806\n",
      "Epoch 9/20\n",
      "15000/15000 [==============================] - 2s 147us/step - loss: 0.0628 - acc: 0.9826 - val_loss: 0.3713 - val_acc: 0.8751\n",
      "Epoch 10/20\n",
      "15000/15000 [==============================] - 2s 157us/step - loss: 0.0548 - acc: 0.9846 - val_loss: 0.3865 - val_acc: 0.8749\n",
      "Epoch 11/20\n",
      "15000/15000 [==============================] - 3s 170us/step - loss: 0.0425 - acc: 0.9890 - val_loss: 0.4141 - val_acc: 0.8725\n",
      "Epoch 12/20\n",
      "15000/15000 [==============================] - 2s 143us/step - loss: 0.0337 - acc: 0.9928 - val_loss: 0.4440 - val_acc: 0.8703\n",
      "Epoch 13/20\n",
      "15000/15000 [==============================] - 2s 142us/step - loss: 0.0302 - acc: 0.9931 - val_loss: 0.4711 - val_acc: 0.8704\n",
      "Epoch 14/20\n",
      "15000/15000 [==============================] - 2s 143us/step - loss: 0.0234 - acc: 0.9950 - val_loss: 0.4994 - val_acc: 0.8687\n",
      "Epoch 15/20\n",
      "15000/15000 [==============================] - 2s 145us/step - loss: 0.0175 - acc: 0.9961 - val_loss: 0.5303 - val_acc: 0.8664\n",
      "Epoch 16/20\n",
      "15000/15000 [==============================] - 2s 147us/step - loss: 0.0112 - acc: 0.9985 - val_loss: 0.6430 - val_acc: 0.8570\n",
      "Epoch 17/20\n",
      "15000/15000 [==============================] - 2s 148us/step - loss: 0.0121 - acc: 0.9975 - val_loss: 0.5940 - val_acc: 0.8650\n",
      "Epoch 18/20\n",
      "15000/15000 [==============================] - 2s 147us/step - loss: 0.0108 - acc: 0.9973 - val_loss: 0.6341 - val_acc: 0.8625\n",
      "Epoch 19/20\n",
      "15000/15000 [==============================] - 2s 146us/step - loss: 0.0044 - acc: 0.9999 - val_loss: 0.6696 - val_acc: 0.8615\n",
      "Epoch 20/20\n",
      "15000/15000 [==============================] - 2s 156us/step - loss: 0.0114 - acc: 0.9971 - val_loss: 0.6863 - val_acc: 0.8620\n"
     ]
    }
   ],
   "source": [
    "# Fitting data to the model \n",
    "history = model.fit(partial_x_train,partial_y_train,epochs=20,batch_size=512,validation_data=(x_val, y_val))"
   ]
  },
  {
   "cell_type": "code",
   "execution_count": 13,
   "metadata": {},
   "outputs": [],
   "source": [
    "history_dict = history.history"
   ]
  },
  {
   "cell_type": "code",
   "execution_count": 14,
   "metadata": {},
   "outputs": [
    {
     "data": {
      "text/plain": [
       "dict_keys(['val_loss', 'val_acc', 'loss', 'acc'])"
      ]
     },
     "execution_count": 14,
     "metadata": {},
     "output_type": "execute_result"
    }
   ],
   "source": [
    "history_dict.keys()"
   ]
  },
  {
   "cell_type": "code",
   "execution_count": 16,
   "metadata": {},
   "outputs": [
    {
     "data": {
      "image/png": "[encoded data removed]",
      "text/plain": [
       "<matplotlib.figure.Figure at 0x112a99668>"
      ]
     },
     "metadata": {},
     "output_type": "display_data"
    }
   ],
   "source": [
    "import matplotlib.pyplot as plt\n",
    "history_dict = history.history\n",
    "loss_values = history_dict['loss']\n",
    "val_loss_values = history_dict['val_loss']\n",
    "epochs = range(1, 20 + 1)\n",
    "plt.plot(epochs, loss_values, 'bo', label='Training loss')\n",
    "plt.plot(epochs, val_loss_values, 'b', label='Validation loss')\n",
    "plt.title('Training and validation loss')\n",
    "plt.xlabel('Epochs')\n",
    "plt.ylabel('Loss')\n",
    "plt.legend()\n",
    "plt.show()"
   ]
  },
  {
   "cell_type": "code",
   "execution_count": 17,
   "metadata": {},
   "outputs": [
    {
     "data": {
      "image/png": "[encoded data removed]",
      "text/plain": [
       "<matplotlib.figure.Figure at 0x112c4ae80>"
      ]
     },
     "metadata": {},
     "output_type": "display_data"
    }
   ],
   "source": [
    "plt.clf() \n",
    "acc_values = history_dict['acc'] \n",
    "val_acc_values = history_dict['val_acc']\n",
    "plt.plot(epochs, acc_values, 'bo', label='Training acc') # bo is for blue dot \n",
    "plt.plot(epochs, val_acc_values, 'b', label='Validation acc') # b is solid blue line \n",
    "plt.title('Training and validation accuracy')\n",
    "plt.xlabel('Epochs')\n",
    "plt.ylabel('Loss')\n",
    "plt.legend()\n",
    "plt.show()"
   ]
  },
  {
   "cell_type": "code",
   "execution_count": 18,
   "metadata": {},
   "outputs": [
    {
     "name": "stdout",
     "output_type": "stream",
     "text": [
      "Epoch 1/4\n",
      "25000/25000 [==============================] - 3s 111us/step - loss: 0.5052 - acc: 0.8109\n",
      "Epoch 2/4\n",
      "25000/25000 [==============================] - 3s 107us/step - loss: 0.3187 - acc: 0.9048\n",
      "Epoch 3/4\n",
      "25000/25000 [==============================] - 3s 106us/step - loss: 0.2712 - acc: 0.9212\n",
      "Epoch 4/4\n",
      "25000/25000 [==============================] - 3s 107us/step - loss: 0.2509 - acc: 0.9257\n",
      "25000/25000 [==============================] - 5s 208us/step\n"
     ]
    }
   ],
   "source": [
    "# Trying regularization  \n",
    "from keras import regularizers\n",
    "\n",
    "model = models.Sequential()\n",
    "model.add(layers.Dense(16, kernel_regularizer=regularizers.l2(0.001), activation='relu', input_shape=(10000,)))\n",
    "model.add(layers.Dense(16, kernel_regularizer=regularizers.l2(0.001), activation='relu'))\n",
    "model.add(layers.Dense(1, activation='sigmoid'))\n",
    "model.compile(optimizer='rmsprop',\n",
    "              loss='binary_crossentropy',\n",
    "              metrics=['accuracy'])\n",
    "model.fit(x_train, y_train, epochs=4, batch_size=512)\n",
    "results = model.evaluate(x_test, y_test)"
   ]
  },
  {
   "cell_type": "code",
   "execution_count": 19,
   "metadata": {},
   "outputs": [],
   "source": [
    "from keras import optimizers\n",
    "model.compile(optimizer=optimizers.RMSprop(lr=0.001),loss='binary_crossentropy', metrics=['accuracy'])"
   ]
  },
  {
   "cell_type": "code",
   "execution_count": 20,
   "metadata": {},
   "outputs": [],
   "source": [
    "from keras import losses\n",
    "from keras import metrics\n",
    "model.compile(optimizer=optimizers.RMSprop(lr=0.001),loss=losses.binary_crossentropy,metrics=[metrics.binary_accuracy])"
   ]
  },
  {
   "cell_type": "code",
   "execution_count": 21,
   "metadata": {},
   "outputs": [],
   "source": [
    "x_val = x_train[:10000]\n",
    "partial_x_train = x_train[10000:]\n",
    "y_val = y_train[:10000]\n",
    "partial_y_train = y_train[10000:]"
   ]
  },
  {
   "cell_type": "code",
   "execution_count": 22,
   "metadata": {},
   "outputs": [],
   "source": [
    "model.compile(optimizer='rmsprop',loss='binary_crossentropy',metrics=['acc'])"
   ]
  },
  {
   "cell_type": "code",
   "execution_count": 23,
   "metadata": {},
   "outputs": [
    {
     "name": "stdout",
     "output_type": "stream",
     "text": [
      "Train on 15000 samples, validate on 10000 samples\n",
      "Epoch 1/20\n",
      "15000/15000 [==============================] - 3s 172us/step - loss: 0.2469 - acc: 0.9279 - val_loss: 0.2390 - val_acc: 0.9325\n",
      "Epoch 2/20\n",
      "15000/15000 [==============================] - 2s 150us/step - loss: 0.2144 - acc: 0.9435 - val_loss: 0.2561 - val_acc: 0.9232\n",
      "Epoch 3/20\n",
      "15000/15000 [==============================] - 2s 150us/step - loss: 0.2016 - acc: 0.9507 - val_loss: 0.2750 - val_acc: 0.9133\n",
      "Epoch 4/20\n",
      "15000/15000 [==============================] - 2s 152us/step - loss: 0.1946 - acc: 0.9539 - val_loss: 0.2920 - val_acc: 0.9060\n",
      "Epoch 5/20\n",
      "15000/15000 [==============================] - 2s 164us/step - loss: 0.1839 - acc: 0.9588 - val_loss: 0.3145 - val_acc: 0.8960\n",
      "Epoch 6/20\n",
      "15000/15000 [==============================] - 2s 151us/step - loss: 0.1755 - acc: 0.9638 - val_loss: 0.3337 - val_acc: 0.8911\n",
      "Epoch 7/20\n",
      "15000/15000 [==============================] - 3s 171us/step - loss: 0.1722 - acc: 0.9632 - val_loss: 0.3462 - val_acc: 0.8879\n",
      "Epoch 8/20\n",
      "15000/15000 [==============================] - 2s 155us/step - loss: 0.1665 - acc: 0.9660 - val_loss: 0.3479 - val_acc: 0.8880\n",
      "Epoch 9/20\n",
      "15000/15000 [==============================] - 2s 163us/step - loss: 0.1661 - acc: 0.9646 - val_loss: 0.3787 - val_acc: 0.8805\n",
      "Epoch 10/20\n",
      "15000/15000 [==============================] - 2s 153us/step - loss: 0.1549 - acc: 0.9713 - val_loss: 0.3673 - val_acc: 0.8850\n",
      "Epoch 11/20\n",
      "15000/15000 [==============================] - 2s 164us/step - loss: 0.1605 - acc: 0.9674 - val_loss: 0.3813 - val_acc: 0.8824\n",
      "Epoch 12/20\n",
      "15000/15000 [==============================] - 3s 180us/step - loss: 0.1523 - acc: 0.9722 - val_loss: 0.3940 - val_acc: 0.8811\n",
      "Epoch 13/20\n",
      "15000/15000 [==============================] - 2s 156us/step - loss: 0.1436 - acc: 0.9755 - val_loss: 0.5411 - val_acc: 0.8400\n",
      "Epoch 14/20\n",
      "15000/15000 [==============================] - 2s 152us/step - loss: 0.1522 - acc: 0.9695 - val_loss: 0.4326 - val_acc: 0.8709\n",
      "Epoch 15/20\n",
      "15000/15000 [==============================] - 2s 152us/step - loss: 0.1462 - acc: 0.9730 - val_loss: 0.4330 - val_acc: 0.8719\n",
      "Epoch 16/20\n",
      "15000/15000 [==============================] - 2s 151us/step - loss: 0.1437 - acc: 0.9750 - val_loss: 0.4694 - val_acc: 0.8633\n",
      "Epoch 17/20\n",
      "15000/15000 [==============================] - 2s 162us/step - loss: 0.1419 - acc: 0.9752 - val_loss: 0.4404 - val_acc: 0.8735\n",
      "Epoch 18/20\n",
      "15000/15000 [==============================] - 2s 153us/step - loss: 0.1429 - acc: 0.9731 - val_loss: 0.4780 - val_acc: 0.8625\n",
      "Epoch 19/20\n",
      "15000/15000 [==============================] - 2s 152us/step - loss: 0.1424 - acc: 0.9743 - val_loss: 0.4569 - val_acc: 0.8693\n",
      "Epoch 20/20\n",
      "15000/15000 [==============================] - 2s 162us/step - loss: 0.1357 - acc: 0.9752 - val_loss: 0.4543 - val_acc: 0.8717\n"
     ]
    }
   ],
   "source": [
    "history = model.fit(partial_x_train,partial_y_train,epochs=20,batch_size=512,validation_data=(x_val, y_val))"
   ]
  },
  {
   "cell_type": "code",
   "execution_count": 24,
   "metadata": {},
   "outputs": [],
   "source": [
    "history_dict = history.history"
   ]
  },
  {
   "cell_type": "code",
   "execution_count": 25,
   "metadata": {},
   "outputs": [
    {
     "data": {
      "text/plain": [
       "dict_keys(['val_loss', 'val_acc', 'loss', 'acc'])"
      ]
     },
     "execution_count": 25,
     "metadata": {},
     "output_type": "execute_result"
    }
   ],
   "source": [
    "history_dict.keys()"
   ]
  },
  {
   "cell_type": "code",
   "execution_count": 26,
   "metadata": {},
   "outputs": [
    {
     "data": {
      "image/png": "[encoded data removed]",
      "text/plain": [
       "<matplotlib.figure.Figure at 0x1148b9390>"
      ]
     },
     "metadata": {},
     "output_type": "display_data"
    }
   ],
   "source": [
    "import matplotlib.pyplot as plt\n",
    "history_dict = history.history\n",
    "loss_values = history_dict['loss']\n",
    "val_loss_values = history_dict['val_loss']\n",
    "epochs = range(1, 20 + 1)\n",
    "plt.plot(epochs, loss_values, 'bo', label='Training loss')\n",
    "plt.plot(epochs, val_loss_values, 'b', label='Validation loss')\n",
    "plt.title('Training and validation loss')\n",
    "plt.xlabel('Epochs')\n",
    "plt.ylabel('Loss')\n",
    "plt.legend()\n",
    "plt.show()"
   ]
  },
  {
   "cell_type": "code",
   "execution_count": 27,
   "metadata": {},
   "outputs": [
    {
     "data": {
      "image/png": "[encoded data removed]",
      "text/plain": [
       "<matplotlib.figure.Figure at 0x1149204e0>"
      ]
     },
     "metadata": {},
     "output_type": "display_data"
    }
   ],
   "source": [
    "plt.clf() \n",
    "acc_values = history_dict['acc'] \n",
    "val_acc_values = history_dict['val_acc']\n",
    "plt.plot(epochs, acc_values, 'bo', label='Training acc')\n",
    "plt.plot(epochs, val_acc_values, 'b', label='Validation acc')\n",
    "plt.title('Training and validation accuracy')\n",
    "plt.xlabel('Epochs')\n",
    "plt.ylabel('Loss')\n",
    "plt.legend()\n",
    "plt.show()"
   ]
  },
  {
   "cell_type": "code",
   "execution_count": 28,
   "metadata": {},
   "outputs": [],
   "source": [
    "from keras import models\n",
    "from keras import layers\n",
    "model = models.Sequential()\n",
    "model.add(layers.Dense(16, activation='relu', input_shape=(10000,)))\n",
    "model.add(layers.Dense(16, activation='relu'))\n",
    "model.add(layers.Dense(1, activation='sigmoid'))"
   ]
  },
  {
   "cell_type": "code",
   "execution_count": 29,
   "metadata": {},
   "outputs": [
    {
     "name": "stdout",
     "output_type": "stream",
     "text": [
      "Epoch 1/4\n",
      "25000/25000 [==============================] - 3s 120us/step - loss: 0.4442 - acc: 0.8279\n",
      "Epoch 2/4\n",
      "25000/25000 [==============================] - 3s 108us/step - loss: 0.2576 - acc: 0.9121\n",
      "Epoch 3/4\n",
      "25000/25000 [==============================] - 2s 100us/step - loss: 0.2006 - acc: 0.9285\n",
      "Epoch 4/4\n",
      "25000/25000 [==============================] - 3s 103us/step - loss: 0.1698 - acc: 0.9396\n",
      "25000/25000 [==============================] - 3s 135us/step\n"
     ]
    }
   ],
   "source": [
    "# Severe overfitting, solution: early stoppage \n",
    "model = models.Sequential()\n",
    "model.add(layers.Dense(16, activation='relu', input_shape=(10000,)))\n",
    "model.add(layers.Dense(16, activation='relu'))\n",
    "model.add(layers.Dense(1, activation='sigmoid'))\n",
    "model.compile(optimizer='rmsprop',\n",
    "              loss='binary_crossentropy',\n",
    "              metrics=['accuracy'])\n",
    "model.fit(x_train, y_train, epochs=4, batch_size=512)\n",
    "results = model.evaluate(x_test, y_test)\n"
   ]
  },
  {
   "cell_type": "code",
   "execution_count": 30,
   "metadata": {},
   "outputs": [
    {
     "data": {
      "text/plain": [
       "[0.28998089448928832, 0.88575999999999999]"
      ]
     },
     "execution_count": 30,
     "metadata": {},
     "output_type": "execute_result"
    }
   ],
   "source": [
    "results "
   ]
  },
  {
   "cell_type": "code",
   "execution_count": 31,
   "metadata": {},
   "outputs": [
    {
     "data": {
      "text/plain": [
       "array([[  4.13627073e-04],\n",
       "       [  9.15258706e-01],\n",
       "       [  3.81248683e-01],\n",
       "       ..., \n",
       "       [  9.17626143e-01],\n",
       "       [  1.01159578e-02],\n",
       "       [  9.61992681e-01]], dtype=float32)"
      ]
     },
     "execution_count": 31,
     "metadata": {},
     "output_type": "execute_result"
    }
   ],
   "source": [
    "model.predict(x_test)"
   ]
  },
  {
   "cell_type": "code",
   "execution_count": 33,
   "metadata": {},
   "outputs": [],
   "source": [
    "# Dropout \n",
    "model = models.Sequential()\n",
    "model.add(layers.Dense(16, activation='relu', input_shape=(10000,)))\n",
    "model.add(layers.Dropout(0.5))\n",
    "model.add(layers.Dense(16, activation='relu'))\n",
    "model.add(layers.Dropout(0.5))\n",
    "model.add(layers.Dense(1, activation='sigmoid'))"
   ]
  },
  {
   "cell_type": "code",
   "execution_count": 34,
   "metadata": {},
   "outputs": [],
   "source": [
    "model.compile(optimizer='rmsprop',loss='binary_crossentropy',metrics=['acc'])"
   ]
  },
  {
   "cell_type": "code",
   "execution_count": 35,
   "metadata": {},
   "outputs": [
    {
     "name": "stdout",
     "output_type": "stream",
     "text": [
      "Train on 15000 samples, validate on 10000 samples\n",
      "Epoch 1/20\n",
      "15000/15000 [==============================] - 4s 258us/step - loss: 0.6390 - acc: 0.6209 - val_loss: 0.5387 - val_acc: 0.8282\n",
      "Epoch 2/20\n",
      "15000/15000 [==============================] - 3s 192us/step - loss: 0.5136 - acc: 0.7622 - val_loss: 0.4299 - val_acc: 0.8711\n",
      "Epoch 3/20\n",
      "15000/15000 [==============================] - 3s 215us/step - loss: 0.4379 - acc: 0.8198 - val_loss: 0.3626 - val_acc: 0.8825\n",
      "Epoch 4/20\n",
      "15000/15000 [==============================] - 2s 165us/step - loss: 0.3673 - acc: 0.8636 - val_loss: 0.3038 - val_acc: 0.8888\n",
      "Epoch 5/20\n",
      "15000/15000 [==============================] - 2s 148us/step - loss: 0.3240 - acc: 0.8827 - val_loss: 0.2844 - val_acc: 0.8907\n",
      "Epoch 6/20\n",
      "15000/15000 [==============================] - 2s 146us/step - loss: 0.2836 - acc: 0.9003 - val_loss: 0.2794 - val_acc: 0.8906\n",
      "Epoch 7/20\n",
      "15000/15000 [==============================] - 2s 147us/step - loss: 0.2462 - acc: 0.9173 - val_loss: 0.2826 - val_acc: 0.8908\n",
      "Epoch 8/20\n",
      "15000/15000 [==============================] - 2s 147us/step - loss: 0.2197 - acc: 0.9265 - val_loss: 0.2955 - val_acc: 0.8883\n",
      "Epoch 9/20\n",
      "15000/15000 [==============================] - 2s 146us/step - loss: 0.1902 - acc: 0.9387 - val_loss: 0.3355 - val_acc: 0.8822\n",
      "Epoch 10/20\n",
      "15000/15000 [==============================] - 2s 160us/step - loss: 0.1663 - acc: 0.9463 - val_loss: 0.3105 - val_acc: 0.8876\n",
      "Epoch 11/20\n",
      "15000/15000 [==============================] - 3s 185us/step - loss: 0.1471 - acc: 0.9544 - val_loss: 0.3392 - val_acc: 0.8889\n",
      "Epoch 12/20\n",
      "15000/15000 [==============================] - 2s 162us/step - loss: 0.1335 - acc: 0.9570 - val_loss: 0.3483 - val_acc: 0.8858\n",
      "Epoch 13/20\n",
      "15000/15000 [==============================] - 3s 177us/step - loss: 0.1200 - acc: 0.9633 - val_loss: 0.3955 - val_acc: 0.8868\n",
      "Epoch 14/20\n",
      "15000/15000 [==============================] - 3s 181us/step - loss: 0.1117 - acc: 0.9656 - val_loss: 0.4241 - val_acc: 0.8854\n",
      "Epoch 15/20\n",
      "15000/15000 [==============================] - 3s 223us/step - loss: 0.1022 - acc: 0.9669 - val_loss: 0.4438 - val_acc: 0.8837\n",
      "Epoch 16/20\n",
      "15000/15000 [==============================] - 2s 160us/step - loss: 0.0877 - acc: 0.9737 - val_loss: 0.4927 - val_acc: 0.8828\n",
      "Epoch 17/20\n",
      "15000/15000 [==============================] - 3s 175us/step - loss: 0.0854 - acc: 0.9732 - val_loss: 0.5312 - val_acc: 0.8795\n",
      "Epoch 18/20\n",
      "15000/15000 [==============================] - 2s 162us/step - loss: 0.0833 - acc: 0.9743 - val_loss: 0.5629 - val_acc: 0.8807\n",
      "Epoch 19/20\n",
      "15000/15000 [==============================] - 3s 187us/step - loss: 0.0761 - acc: 0.9772 - val_loss: 0.5872 - val_acc: 0.8807\n",
      "Epoch 20/20\n",
      "15000/15000 [==============================] - 3s 170us/step - loss: 0.0726 - acc: 0.9779 - val_loss: 0.5574 - val_acc: 0.8819\n"
     ]
    }
   ],
   "source": [
    "history = model.fit(partial_x_train,partial_y_train,epochs=20,batch_size=512,validation_data=(x_val, y_val))"
   ]
  },
  {
   "cell_type": "code",
   "execution_count": 36,
   "metadata": {},
   "outputs": [
    {
     "data": {
      "text/plain": [
       "dict_keys(['val_loss', 'val_acc', 'loss', 'acc'])"
      ]
     },
     "execution_count": 36,
     "metadata": {},
     "output_type": "execute_result"
    }
   ],
   "source": [
    "history_dict = history.history\n",
    "history_dict.keys()"
   ]
  },
  {
   "cell_type": "code",
   "execution_count": 37,
   "metadata": {},
   "outputs": [
    {
     "data": {
      "image/png": "[encoded data removed]",
      "text/plain": [
       "<matplotlib.figure.Figure at 0x1184b55c0>"
      ]
     },
     "metadata": {},
     "output_type": "display_data"
    }
   ],
   "source": [
    "import matplotlib.pyplot as plt\n",
    "history_dict = history.history\n",
    "loss_values = history_dict['loss']\n",
    "val_loss_values = history_dict['val_loss']\n",
    "epochs = range(1, 20 + 1)\n",
    "plt.plot(epochs, loss_values, 'bo', label='Training loss')\n",
    "plt.plot(epochs, val_loss_values, 'b', label='Validation loss')\n",
    "plt.title('Training and validation loss')\n",
    "plt.xlabel('Epochs')\n",
    "plt.ylabel('Loss')\n",
    "plt.legend()\n",
    "plt.show()"
   ]
  },
  {
   "cell_type": "code",
   "execution_count": null,
   "metadata": {},
   "outputs": [],
   "source": []
  }
 ],
 "metadata": {
  "kernelspec": {
   "display_name": "Python [default]",
   "language": "python",
   "name": "python3"
  },
  "language_info": {
   "codemirror_mode": {
    "name": "ipython",
    "version": 3
   },
   "file_extension": ".py",
   "mimetype": "text/x-python",
   "name": "python",
   "nbconvert_exporter": "python",
   "pygments_lexer": "ipython3",
   "version": "3.6.3"
  }
 },
 "nbformat": 4,
 "nbformat_minor": 2
}
